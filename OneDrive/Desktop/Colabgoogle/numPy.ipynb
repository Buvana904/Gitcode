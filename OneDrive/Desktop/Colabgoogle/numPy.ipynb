{
  "nbformat": 4,
  "nbformat_minor": 0,
  "metadata": {
    "colab": {
      "provenance": []
    },
    "kernelspec": {
      "name": "python3",
      "display_name": "Python 3"
    },
    "language_info": {
      "name": "python"
    }
  },
  "cells": [
    {
      "cell_type": "code",
      "execution_count": 1,
      "metadata": {
        "id": "fD1bHMWwprBC"
      },
      "outputs": [],
      "source": [
        "import numpy as np\n",
        "import csv\n",
        "import time\n",
        "import sys\n",
        "from numpy import genfromtxt"
      ]
    },
    {
      "cell_type": "code",
      "source": [
        "b=range(1000)#size of the array\n",
        "print(sys.getsizeof(5)*len(b))\n",
        "\n",
        "c=np.arange(1000)\n",
        "print(c.size*c.itemsize)\n",
        "\n"
      ],
      "metadata": {
        "id": "7ozh53eBuvrx",
        "colab": {
          "base_uri": "https://localhost:8080/"
        },
        "outputId": "3fa293e0-cc0f-4384-c28f-0d148086b215"
      },
      "execution_count": 5,
      "outputs": [
        {
          "output_type": "stream",
          "name": "stdout",
          "text": [
            "28000\n",
            "8000\n"
          ]
        }
      ]
    },
    {
      "cell_type": "code",
      "source": [
        "#1D array\n",
        "#Dimension,Shape,Size,Length & Type of array\n",
        "\n",
        "import numpy as np\n",
        "\n",
        "a = np.array([2,3,4,5,1,9])\n",
        "print(a)\n",
        "print(\"Dimensions:\",a.ndim)\n",
        "print(\"Shape:\",a.shape)\n",
        "print(\"size:\",a.size)\n",
        "print(\"Length:\",len(a))\n",
        "print(type(a))\n",
        "\n",
        "#2D array\n",
        "\n",
        "b = np.array([[2,3,4,5],[4,6,8,9]])\n",
        "print(b)\n",
        "print(\"Dimensions:\",b.ndim)\n",
        "print(\"Shape:\",b.shape)\n",
        "print(\"size:\",b.size)\n",
        "print(\"Length:\",len(b))\n",
        "print(type(b))\n",
        "\n",
        "#3D array\n",
        "\n",
        "c = np.array([[2,3,4,5],[4,6,8,9]],\n",
        "             [[2,6,7,5],[8,9,6,2]])\n",
        "print(c)\n",
        "print(\"Dimensions:\",c.ndim)\n",
        "print(\"Shape:\",c.shape)\n",
        "print(\"size:\",c.size)\n",
        "print(\"Length:\",len(c))\n",
        "print(type(c))\n",
        "\n",
        "\n",
        "\n",
        "\n"
      ],
      "metadata": {
        "colab": {
          "base_uri": "https://localhost:8080/",
          "height": 460
        },
        "id": "xb85ROU-zZpZ",
        "outputId": "43819412-6686-40f1-b03a-5f72bb037122"
      },
      "execution_count": 20,
      "outputs": [
        {
          "output_type": "stream",
          "name": "stdout",
          "text": [
            "[2 3 4 5 1 9]\n",
            "Dimensions: 1\n",
            "Shape: (6,)\n",
            "size: 6\n",
            "Length: 6\n",
            "<class 'numpy.ndarray'>\n",
            "[[2 3 4 5]\n",
            " [4 6 8 9]]\n",
            "Dimensions: 2\n",
            "Shape: (2, 4)\n",
            "size: 8\n",
            "Length: 2\n",
            "<class 'numpy.ndarray'>\n"
          ]
        },
        {
          "output_type": "error",
          "ename": "TypeError",
          "evalue": "ignored",
          "traceback": [
            "\u001b[0;31m---------------------------------------------------------------------------\u001b[0m",
            "\u001b[0;31mTypeError\u001b[0m                                 Traceback (most recent call last)",
            "\u001b[0;32m<ipython-input-20-46d7d0891d7e>\u001b[0m in \u001b[0;36m<module>\u001b[0;34m\u001b[0m\n\u001b[1;32m     24\u001b[0m \u001b[0;31m#3D array\u001b[0m\u001b[0;34m\u001b[0m\u001b[0;34m\u001b[0m\u001b[0;34m\u001b[0m\u001b[0m\n\u001b[1;32m     25\u001b[0m \u001b[0;34m\u001b[0m\u001b[0m\n\u001b[0;32m---> 26\u001b[0;31m c = np.array([[2,3,4,5],[4,6,8,9]],\n\u001b[0m\u001b[1;32m     27\u001b[0m              [[2,6,7,5],[8,9,6,2]])\n\u001b[1;32m     28\u001b[0m \u001b[0mprint\u001b[0m\u001b[0;34m(\u001b[0m\u001b[0mc\u001b[0m\u001b[0;34m)\u001b[0m\u001b[0;34m\u001b[0m\u001b[0;34m\u001b[0m\u001b[0m\n",
            "\u001b[0;31mTypeError\u001b[0m: Field elements must be 2- or 3-tuples, got '[2, 6, 7, 5]'"
          ]
        }
      ]
    },
    {
      "cell_type": "code",
      "source": [
        "empid =np.arange(101,111)\n",
        "sal = np.random.randint(10000,20000,10)\n",
        "empid\n",
        "sal\n",
        "\n",
        "np.mean(sal)\n",
        "np.sum(sal)\n",
        "\n",
        "empid + sal #add empid[0] with sal[0]\n",
        "np.add(empid,111) #adds 111 to every item in an array\n",
        "empid[0:6:2]#slicing can be used in np\n",
        "\n",
        "empid.size #counts the no of items in the array\n",
        "\n",
        "idx = np.where(empid > 105)#it returns the index positions of the value that matches the conditions\n",
        "empid[idx]#pass index to get the values\n",
        "\n",
        "newempid = np.arange(111,116)\n",
        "newempid\n",
        "\n",
        "empid = np.append(empid , newempid)\n",
        "empid\n",
        "\n",
        "print(np.sort(sal))#asc\n",
        "print(np.sort(sal)[::-1])#desc\n",
        "\n",
        "\n",
        "\n",
        "\n",
        "\n",
        "\n"
      ],
      "metadata": {
        "colab": {
          "base_uri": "https://localhost:8080/"
        },
        "id": "QzR3vcgypzKG",
        "outputId": "aac5f87a-6592-4077-e19a-74e74f3218e3"
      },
      "execution_count": null,
      "outputs": [
        {
          "output_type": "stream",
          "name": "stdout",
          "text": [
            "[10173 11774 13101 13790 16238 16548 16681 16848 18050 19310]\n",
            "[19310 18050 16848 16681 16548 16238 13790 13101 11774 10173]\n"
          ]
        }
      ]
    }
  ]
}